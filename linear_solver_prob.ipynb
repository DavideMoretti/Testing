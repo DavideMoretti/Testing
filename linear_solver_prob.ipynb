{
 "cells": [
  {
   "cell_type": "code",
   "execution_count": 1,
   "metadata": {},
   "outputs": [],
   "source": [
    "import sympy as sym\n",
    "from scipy.special import factorial2"
   ]
  },
  {
   "cell_type": "code",
   "execution_count": 63,
   "metadata": {},
   "outputs": [],
   "source": [
    "# inputs here:\n",
    "\n",
    "# mu = 0\n",
    "sig = 1\n",
    "N = 4\n",
    "n_spaces = 60"
   ]
  },
  {
   "cell_type": "markdown",
   "metadata": {},
   "source": [
    "### Solve weights of the poliminial approx.\n",
    "\n",
    "$ <x^0>C_1 + ... + <x^{N-1}>C_{N-1} = <x^{N}> $\n",
    "\n",
    "$ ... $\n",
    "\n",
    "$ <x^{N-1}>C_1 + ... + <x^{2N-1}>C_{N-1} = <x^{2N-1}> $\n",
    "\n",
    "and find: $ C_0,...,C_N $\n",
    "\n",
    "### Find zeros of polynomial\n",
    "\n",
    "$ \\sum_{k=0}^{N} C_{k} x^k $\n",
    "\n",
    "and find: $ x_i,...,x_N $\n",
    "\n",
    "### Find lumped probability corresponding to the zeros\n",
    "\n",
    "$ p_1 + ... + p_N = 1 $\n",
    "\n",
    "$ p_1*x_1 + ... + p_N*x_N = <x> $\n",
    "\n",
    "$ ... $\n",
    "\n",
    "$ p_1*x_1^{2N-1} + ... + p_N*x_N^{2N-1} = <x^{2N-1}> $\n",
    "\n",
    "and find $ p_i,...,p_N $"
   ]
  },
  {
   "cell_type": "code",
   "execution_count": 84,
   "metadata": {},
   "outputs": [
    {
     "name": "stdout",
     "output_type": "stream",
     "text": [
      "+------------------------------------------------------------+\n",
      "C0:\t\t3\n",
      "C1:\t\t0\n",
      "C2:\t\t-6\n",
      "C3:\t\t0\n",
      "+------------------------------------------------------------+\n",
      "x1:\t-sqrt(3 - sqrt(6)) \t(-0.74196)\n",
      "x2:\tsqrt(3 - sqrt(6)) \t(0.74196)\n",
      "x3:\t-sqrt(sqrt(6) + 3) \t(-2.33441)\n",
      "x4:\tsqrt(sqrt(6) + 3) \t(2.33441)\n",
      "+------------------------------------------------------------+\n",
      "p1:        0.45412\n",
      "p2:        0.45412\n",
      "p3:        0.04588\n",
      "p4:        0.04588\n",
      "+------------------------------------------------------------+\n"
     ]
    }
   ],
   "source": [
    "N_moms = 2*N -1\n",
    "sig = 1\n",
    "\n",
    "moms = [sig**p*factorial2(p-1,exact=True) if p%2==0 else 0 for p in range(0,N_moms+1)]\n",
    "\n",
    "p_syms = [sym.Symbol('p'+str(i)) for i in range(1,N+1)]\n",
    "c_syms = [sym.Symbol('C'+str(i)) for i in range(N)]\n",
    "\n",
    "# moms_ex = [1,mu,mu**2+sig**2,mu**3+3*mu*sig**2,\n",
    "#             mu**4+6*mu**2*sig**2+3*sig**4,\n",
    "#             mu**5+10*mu**3*sig**2+15*mu*sig**4]\n",
    "\n",
    "\n",
    "print('+'+'-'*n_spaces+'+')\n",
    "eqs_c = []\n",
    "for i in range(N):\n",
    "    eq = 0\n",
    "    for j in range(N):\n",
    "        eq += c_syms[j]*moms[j+i]\n",
    "\n",
    "    eq += moms[N+i]\n",
    "    eqs_c.append(eq)\n",
    "    \n",
    "# eq1_c = sym.Eq(C0*moms[0]+C1*moms[1]+C2*moms[2]+moms[3])\n",
    "# eq2_c = sym.Eq([C0*moms[1]+C1*moms[2]+C2*moms[3]+moms[4]])\n",
    "# eq3_c = sym.Eq([C0*moms[2]+C1*moms[3]+C2*moms[4]+moms[5]])\n",
    "\n",
    "# sol1 = sym.solve([eq1_c,eq2_c,eq3_c],(C0,C1,C2))\n",
    "sol1 = sym.solve(eqs_c,c_syms)\n",
    "for k,v in sol1.items():\n",
    "    print('{}:\\t\\t{}'.format(k,v)) \n",
    "print('+'+'-'*n_spaces+'+')\n",
    "\n",
    "eq1_x = 0\n",
    "for ii in range(N):\n",
    "    eq1_x += sol1[c_syms[ii]]*x**ii\n",
    "eq1_x += x**N\n",
    "\n",
    "# eq1_x = sym.Eq(sol1[C0]+sol1[C1]*x+sol1[C2]*x**2+x**3)\n",
    "# sol2 = sym.solve(eq1_x,x)\n",
    "sol2 = sym.solve(eq1_x,x)\n",
    "for ii in range(len(sol1)):\n",
    "    print('x{}:\\t{} \\t({:>6.5f})'.format(ii+1,sol2[ii],sym.N(sol2[ii])))\n",
    "print('+'+'-'*n_spaces+'+')\n",
    "    \n",
    "eqs_p = []\n",
    "\n",
    "for i in range(N):\n",
    "    eq = 0\n",
    "    for j in range(N):\n",
    "        eq += p_syms[j]*sym.N(sol2[j])**i\n",
    "\n",
    "    eq += -moms[i]\n",
    "    eqs_p.append(eq)\n",
    "\n",
    "# eq1_p = sym.Eq(p1+p2+p3,moms[0])\n",
    "# eq2_p = sym.Eq(p1*x1+p2*x2+p3*x3,moms[1])\n",
    "# eq3_p = sym.Eq(p1*x1**2+p2*x2**2+p3*x3**2,moms[2])\n",
    "\n",
    "# sol3 = sym.solve([eq_p,eq2_p,eq3_p],(p1,p2,p3))\n",
    "\n",
    "sol3 = sym.solve(eqs_p,p_syms)\n",
    "for k,v in sol3.items():\n",
    "    print('{}:{:>15.5f}'.format(k,v))\n",
    "print('+'+'-'*n_spaces+'+')"
   ]
  },
  {
   "cell_type": "markdown",
   "metadata": {},
   "source": []
  }
 ],
 "metadata": {
  "kernelspec": {
   "display_name": "Python 3",
   "language": "python",
   "name": "python3"
  },
  "language_info": {
   "codemirror_mode": {
    "name": "ipython",
    "version": 3
   },
   "file_extension": ".py",
   "mimetype": "text/x-python",
   "name": "python",
   "nbconvert_exporter": "python",
   "pygments_lexer": "ipython3",
   "version": "3.7.6"
  }
 },
 "nbformat": 4,
 "nbformat_minor": 4
}
