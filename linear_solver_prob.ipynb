{
 "cells": [
  {
   "cell_type": "code",
   "execution_count": 2,
   "metadata": {},
   "outputs": [],
   "source": [
    "import sympy as sym"
   ]
  },
  {
   "cell_type": "code",
   "execution_count": null,
   "metadata": {},
   "outputs": [],
   "source": [
    "x = sym.Symbol('x')\n",
    "\n",
    "p1 = sym.Symbol('p1')\n",
    "p2 = sym.Symbol('p2')\n",
    "p3 = sym.Symbol('p3')\n",
    "\n",
    "\n",
    "C0 = sym.Symbol('C0')\n",
    "C1 = sym.Symbol('C1')\n",
    "C2 = sym.Symbol('C2')\n",
    "\n",
    "C3 = 1\n",
    "\n",
    "mu = 0\n",
    "sig = 1\n",
    "\n",
    "moms = [1,mu,mu**2+sig**2,mu**3+3*mu*sig**2,\n",
    "            mu**4+6*mu**2*sig**2+3*sig**4,\n",
    "            mu**5+10*mu**3*sig**2+15*mu*sig**4]"
   ]
  },
  {
   "cell_type": "markdown",
   "metadata": {},
   "source": [
    "### Solve equation\n",
    "\n",
    "$ <x^0>C_1 + ... + <x^{N-1}>C_{N-1} = <x^{N}> $\n",
    "\n",
    "$ ... $\n",
    "\n",
    "$ <x^{N-1}>C_1 + ... + <x^{2N-1}>C_{N-1} = <x^{2N-1}> $"
   ]
  },
  {
   "cell_type": "code",
   "execution_count": null,
   "metadata": {},
   "outputs": [],
   "source": [
    "eq1_c = sym.Eq(C0*moms[0]+C1*moms[1]+C2*moms[2],-moms[3])\n",
    "eq2_c = sym.Eq(C0*moms[1]+C1*moms[2]+C2*moms[3],-moms[4])\n",
    "eq3_c = sym.Eq(C0*moms[2]+C1*moms[3]+C2*moms[4],-moms[5])\n",
    "\n",
    "sol1 = sym.solve([eq1_c,eq2_c,eq3_c],(C0,C1,C2))"
   ]
  },
  {
   "cell_type": "markdown",
   "metadata": {},
   "source": [
    "### Solve equation\n",
    "\n",
    "$ \\sum_{k=0}^{N} C_{k} x^k $\n",
    "\n",
    "and find: $ x_i $"
   ]
  },
  {
   "cell_type": "code",
   "execution_count": null,
   "metadata": {},
   "outputs": [],
   "source": [
    "eq1_x = sym.Eq(sol1[C0]+sol1[C1]*x+sol1[C2]*x**2+x**3)\n",
    "sol2 = sym.solve(eq1_x,x)"
   ]
  },
  {
   "cell_type": "markdown",
   "metadata": {},
   "source": [
    "### Solve equation\n",
    "\n",
    "$ p_1 + ... + p_N = 1 $\n",
    "\n",
    "$ p_1*x_1 + ... + p_N*x_N = <x> $\n",
    "\n",
    "$ ... $\n",
    "\n",
    "$ p_1*x_1^{2N-1} + ... + p_N*x_N^{2N-1} = <x^{2N-1}> $"
   ]
  },
  {
   "cell_type": "code",
   "execution_count": 21,
   "metadata": {
    "scrolled": true
   },
   "outputs": [],
   "source": [
    "x1 = sol2[0]\n",
    "x2 = sol2[1]\n",
    "x3 = sol2[2]\n",
    "\n",
    "eq1_p = sym.Eq(p1+p2+p3,moms[0])\n",
    "eq2_p = sym.Eq(p1*x1+p2*x2+p3*x3,moms[1])\n",
    "eq3_p = sym.Eq(p1*x1**2+p2*x2**2+p3*x3**2,moms[2])\n",
    "\n",
    "sol3 = sym.solve([eq1_p,eq2_p,eq3_p],(p1,p2,p3))\n",
    "\n",
    "# sym.solve([eq1,eq2,eq3,eq4,eq5,eq6],(x1,x2,x3,p1,p2,p3))"
   ]
  },
  {
   "cell_type": "code",
   "execution_count": 22,
   "metadata": {},
   "outputs": [
    {
     "name": "stdout",
     "output_type": "stream",
     "text": [
      "{C0: 0, C1: -3, C2: 0}\n",
      "[0, -sqrt(3), sqrt(3)]\n",
      "{p1: 2/3, p2: 1/6, p3: 1/6}\n"
     ]
    }
   ],
   "source": [
    "print(sol1)\n",
    "print(sol2)\n",
    "print(sol3)"
   ]
  }
 ],
 "metadata": {
  "kernelspec": {
   "display_name": "Python 3",
   "language": "python",
   "name": "python3"
  },
  "language_info": {
   "codemirror_mode": {
    "name": "ipython",
    "version": 3
   },
   "file_extension": ".py",
   "mimetype": "text/x-python",
   "name": "python",
   "nbconvert_exporter": "python",
   "pygments_lexer": "ipython3",
   "version": "3.7.6"
  }
 },
 "nbformat": 4,
 "nbformat_minor": 4
}
